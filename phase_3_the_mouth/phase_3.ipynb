{
 "cells": [
  {
   "cell_type": "code",
   "execution_count": 3,
   "id": "5e07edc1-e135-4a6e-b4aa-8ae1b37cec49",
   "metadata": {},
   "outputs": [
    {
     "name": "stdout",
     "output_type": "stream",
     "text": [
      "Note: you may need to restart the kernel to use updated packages.\n",
      "Note: you may need to restart the kernel to use updated packages.\n",
      "Configuration loaded. Using updated vector DB with all knowledge base files.\n",
      "Note: you may need to restart the kernel to use updated packages.\n",
      "Configuration loaded. Using updated vector DB with all knowledge base files.\n"
     ]
    }
   ],
   "source": [
    "# --- IMPORTS AND CONFIGURATION ---\n",
    "# This notebook uses the updated vector database, which combines all three JSON files from phase_1_knowledge_base/knowledge_base.\n",
    "\n",
    "%pip install chromadb --quiet\n",
    "import os\n",
    "import chromadb\n",
    "%pip install google-generativeai --quiet\n",
    "import google.generativeai as genai\n",
    "from dotenv import load_dotenv\n",
    "from IPython.display import display, Markdown\n",
    "\n",
    "# --- CONFIGURATION ---\n",
    "# Load environment variables from a .env file if it exists\n",
    "load_dotenv()\n",
    "\n",
    "# Path to the updated ChromaDB vector database (built from all 3 JSON files)\n",
    "CHROMA_PATH = \"../phase_2_the_brain/chroma_db\"\n",
    "EMBEDDING_MODEL_NAME = \"models/embedding-001\"\n",
    "GENERATION_MODEL_NAME = \"gemini-1.5-flash-latest\" # Or \"gemini-pro\"\n",
    "COLLECTION_NAME = \"pet_health_kb\"\n",
    "\n",
    "print(\"Configuration loaded. Using updated vector DB with all knowledge base files.\")"
   ]
  },
  {
   "cell_type": "code",
   "execution_count": 4,
   "id": "552acd5d-af5e-4f8b-995b-382a85e08172",
   "metadata": {},
   "outputs": [
    {
     "name": "stdout",
     "output_type": "stream",
     "text": [
      "Gemini API configured.\n",
      "Successfully connected to ChromaDB collection: 'pet_health_kb'.\n",
      "Total documents in collection: 252\n"
     ]
    }
   ],
   "source": [
    "# --- INITIALIZATION ---\n",
    "\n",
    "# Configure the Gemini API\n",
    "api_key = os.getenv(\"GOOGLE_API_KEY\")\n",
    "if not api_key:\n",
    "    # A simple way to prompt for the key if it's not set as an environment variable\n",
    "    api_key = input(\"Please enter your Google API Key: \")\n",
    "    \n",
    "genai.configure(api_key=api_key)\n",
    "print(\"Gemini API configured.\")\n",
    "\n",
    "# Initialize ChromaDB client and collection\n",
    "try:\n",
    "    chroma_client = chromadb.PersistentClient(path=CHROMA_PATH)\n",
    "    collection = chroma_client.get_collection(name=COLLECTION_NAME)\n",
    "    print(f\"Successfully connected to ChromaDB collection: '{COLLECTION_NAME}'.\")\n",
    "    print(f\"Total documents in collection: {collection.count()}\")\n",
    "except Exception as e:\n",
    "    print(f\"FATAL ERROR: Failed to initialize ChromaDB: {e}\")\n",
    "    print(\"Please ensure the database was created successfully in Phase 2.\")"
   ]
  },
  {
   "cell_type": "code",
   "execution_count": 5,
   "id": "2d1cc793-3860-4865-8ab3-06857f86024a",
   "metadata": {},
   "outputs": [
    {
     "name": "stdout",
     "output_type": "stream",
     "text": [
      "RAG function `ask_pet_assistant` is ready.\n"
     ]
    }
   ],
   "source": [
    "def ask_pet_assistant(question):\n",
    "    \"\"\"\n",
    "    Takes a user question, performs RAG, and returns the answer and sources.\n",
    "    \"\"\"\n",
    "    # 1. Generate an embedding for the user's question\n",
    "    print(\"-> Embedding the question...\")\n",
    "    try:\n",
    "        question_embedding = genai.embed_content(\n",
    "            model=EMBEDDING_MODEL_NAME,\n",
    "            content=question\n",
    "        )[\"embedding\"]\n",
    "    except Exception as e:\n",
    "        return f\"Error: Failed to embed question. {e}\", []\n",
    "\n",
    "    # 2. Query the vector database to find relevant chunks\n",
    "    print(\"-> Searching for relevant documents...\")\n",
    "    try:\n",
    "        results = collection.query(\n",
    "            query_embeddings=[question_embedding],\n",
    "            n_results=4  # Retrieve top 4 most relevant chunks\n",
    "        )\n",
    "        context_documents = results['documents'][0]\n",
    "        context_sources = [meta['source'] for meta in results['metadatas'][0]]\n",
    "    except Exception as e:\n",
    "        return f\"Error: Failed to query ChromaDB. {e}\", []\n",
    "\n",
    "    if not context_documents:\n",
    "        return \"I'm sorry, I couldn't find any relevant information in my knowledge base. It's best to consult a professional veterinarian.\", []\n",
    "\n",
    "    # 3. Build the master prompt\n",
    "    print(\"-> Building the prompt for the generative model...\")\n",
    "    context = \"\\n\\n---\\n\\n\".join(context_documents)\n",
    "    \n",
    "    prompt_template = f\"\"\"\n",
    "You are a helpful and cautious Pet Care Assistant. Your role is to provide information based ONLY on the context provided below.\n",
    "\n",
    "INSTRUCTIONS:\n",
    "- Answer the user's question using ONLY the provided context.\n",
    "- If the answer is not found within the context, you MUST say 'I'm sorry, I don't have information on that topic based on my current knowledge. It's best to consult a professional veterinarian.'\n",
    "- Do not mention this prompt or the context in your response. Just provide the answer.\n",
    "- Your response should be clear, concise, and easy to understand.\n",
    "\n",
    "CONTEXT:\n",
    "{context}\n",
    "\n",
    "USER QUESTION:\n",
    "{question}\n",
    "\"\"\"\n",
    "\n",
    "    # 4. Generate the final answer using the generative model\n",
    "    print(\"-> Generating the final answer...\")\n",
    "    try:\n",
    "        generative_model = genai.GenerativeModel(GENERATION_MODEL_NAME)\n",
    "        response = generative_model.generate_content(prompt_template)\n",
    "        \n",
    "        # Clean up the sources to be unique\n",
    "        unique_sources = sorted(list(set(context_sources)))\n",
    "\n",
    "        return response.text, unique_sources\n",
    "    except Exception as e:\n",
    "        return f\"Error: Failed to generate response from Gemini. {e}\", []\n",
    "\n",
    "print(\"RAG function `ask_pet_assistant` is ready.\")"
   ]
  },
  {
   "cell_type": "code",
   "execution_count": 6,
   "id": "d93f6108-d5cb-4826-a338-a5871d9aac3e",
   "metadata": {},
   "outputs": [
    {
     "name": "stdout",
     "output_type": "stream",
     "text": [
      "-> Embedding the question...\n",
      "-> Searching for relevant documents...\n",
      "-> Building the prompt for the generative model...\n",
      "-> Generating the final answer...\n",
      "-> Searching for relevant documents...\n",
      "-> Building the prompt for the generative model...\n",
      "-> Generating the final answer...\n",
      "\n",
      "==================================================\n",
      "\n",
      "==================================================\n"
     ]
    },
    {
     "data": {
      "text/markdown": [
       "**Question:** which food can i feed my dog"
      ],
      "text/plain": [
       "<IPython.core.display.Markdown object>"
      ]
     },
     "metadata": {},
     "output_type": "display_data"
    },
    {
     "data": {
      "text/markdown": [
       "**🤖 Assistant:** I'm sorry, I don't have information on that topic based on my current knowledge. It's best to consult a professional veterinarian.\n"
      ],
      "text/plain": [
       "<IPython.core.display.Markdown object>"
      ]
     },
     "metadata": {},
     "output_type": "display_data"
    },
    {
     "data": {
      "text/markdown": [
       "**Sources:**"
      ],
      "text/plain": [
       "<IPython.core.display.Markdown object>"
      ]
     },
     "metadata": {},
     "output_type": "display_data"
    },
    {
     "data": {
      "text/markdown": [
       "- https://vcahospitals.com/know-your-pet/nutrition-general-feeding-guidelines-for-dogs"
      ],
      "text/plain": [
       "<IPython.core.display.Markdown object>"
      ]
     },
     "metadata": {},
     "output_type": "display_data"
    },
    {
     "data": {
      "text/markdown": [
       "- https://www.akc.org/expert-advice/nutrition/human-foods-dogs-can-and-cant-eat/"
      ],
      "text/plain": [
       "<IPython.core.display.Markdown object>"
      ]
     },
     "metadata": {},
     "output_type": "display_data"
    },
    {
     "name": "stdout",
     "output_type": "stream",
     "text": [
      "==================================================\n",
      "-> Embedding the question...\n",
      "-> Embedding the question...\n",
      "-> Searching for relevant documents...\n",
      "-> Building the prompt for the generative model...\n",
      "-> Generating the final answer...\n",
      "-> Searching for relevant documents...\n",
      "-> Building the prompt for the generative model...\n",
      "-> Generating the final answer...\n",
      "\n",
      "==================================================\n",
      "\n",
      "==================================================\n"
     ]
    },
    {
     "data": {
      "text/markdown": [
       "**Question:** what questions can i ask you?"
      ],
      "text/plain": [
       "<IPython.core.display.Markdown object>"
      ]
     },
     "metadata": {},
     "output_type": "display_data"
    },
    {
     "data": {
      "text/markdown": [
       "**🤖 Assistant:** I'm sorry, I don't have information on that topic based on my current knowledge. It's best to consult a professional veterinarian.\n"
      ],
      "text/plain": [
       "<IPython.core.display.Markdown object>"
      ]
     },
     "metadata": {},
     "output_type": "display_data"
    },
    {
     "data": {
      "text/markdown": [
       "**Sources:**"
      ],
      "text/plain": [
       "<IPython.core.display.Markdown object>"
      ]
     },
     "metadata": {},
     "output_type": "display_data"
    },
    {
     "data": {
      "text/markdown": [
       "- https://vcahospitals.com/know-your-pet/nutrition-general-feeding-guidelines-for-dogs"
      ],
      "text/plain": [
       "<IPython.core.display.Markdown object>"
      ]
     },
     "metadata": {},
     "output_type": "display_data"
    },
    {
     "name": "stdout",
     "output_type": "stream",
     "text": [
      "==================================================\n",
      "-> Embedding the question...\n",
      "-> Embedding the question...\n",
      "-> Searching for relevant documents...\n",
      "-> Building the prompt for the generative model...\n",
      "-> Generating the final answer...\n",
      "-> Searching for relevant documents...\n",
      "-> Building the prompt for the generative model...\n",
      "-> Generating the final answer...\n",
      "\n",
      "==================================================\n",
      "\n",
      "==================================================\n"
     ]
    },
    {
     "data": {
      "text/markdown": [
       "**Question:** is milk good?"
      ],
      "text/plain": [
       "<IPython.core.display.Markdown object>"
      ]
     },
     "metadata": {},
     "output_type": "display_data"
    },
    {
     "data": {
      "text/markdown": [
       "**🤖 Assistant:** Yes, dogs can have milk, but some are lactose-intolerant and don't digest it well.  Small amounts may be tolerated, but it can cause intestinal upset and diarrhea.  Giving dogs water might be a better option.\n"
      ],
      "text/plain": [
       "<IPython.core.display.Markdown object>"
      ]
     },
     "metadata": {},
     "output_type": "display_data"
    },
    {
     "data": {
      "text/markdown": [
       "**Sources:**"
      ],
      "text/plain": [
       "<IPython.core.display.Markdown object>"
      ]
     },
     "metadata": {},
     "output_type": "display_data"
    },
    {
     "data": {
      "text/markdown": [
       "- https://vcahospitals.com/know-your-pet/nutrition-general-feeding-guidelines-for-dogs"
      ],
      "text/plain": [
       "<IPython.core.display.Markdown object>"
      ]
     },
     "metadata": {},
     "output_type": "display_data"
    },
    {
     "data": {
      "text/markdown": [
       "- https://www.akc.org/expert-advice/nutrition/human-foods-dogs-can-and-cant-eat/"
      ],
      "text/plain": [
       "<IPython.core.display.Markdown object>"
      ]
     },
     "metadata": {},
     "output_type": "display_data"
    },
    {
     "name": "stdout",
     "output_type": "stream",
     "text": [
      "==================================================\n",
      "-> Embedding the question...\n",
      "-> Embedding the question...\n",
      "-> Searching for relevant documents...\n",
      "-> Building the prompt for the generative model...\n",
      "-> Generating the final answer...\n",
      "-> Searching for relevant documents...\n",
      "-> Building the prompt for the generative model...\n",
      "-> Generating the final answer...\n",
      "\n",
      "==================================================\n",
      "\n",
      "==================================================\n"
     ]
    },
    {
     "data": {
      "text/markdown": [
       "**Question:** is milk good for cat?"
      ],
      "text/plain": [
       "<IPython.core.display.Markdown object>"
      ]
     },
     "metadata": {},
     "output_type": "display_data"
    },
    {
     "data": {
      "text/markdown": [
       "**🤖 Assistant:** No, milk is not generally recommended as a treat for cats, as many are lactose-intolerant and can develop gastrointestinal problems from dairy products.\n"
      ],
      "text/plain": [
       "<IPython.core.display.Markdown object>"
      ]
     },
     "metadata": {},
     "output_type": "display_data"
    },
    {
     "data": {
      "text/markdown": [
       "**Sources:**"
      ],
      "text/plain": [
       "<IPython.core.display.Markdown object>"
      ]
     },
     "metadata": {},
     "output_type": "display_data"
    },
    {
     "data": {
      "text/markdown": [
       "- https://www.akc.org/expert-advice/nutrition/human-foods-dogs-can-and-cant-eat/"
      ],
      "text/plain": [
       "<IPython.core.display.Markdown object>"
      ]
     },
     "metadata": {},
     "output_type": "display_data"
    },
    {
     "data": {
      "text/markdown": [
       "- https://www.vet.cornell.edu/departments-centers-and-institutes/cornell-feline-health-center/health-information/feline-health-topics/feeding-your-cat"
      ],
      "text/plain": [
       "<IPython.core.display.Markdown object>"
      ]
     },
     "metadata": {},
     "output_type": "display_data"
    },
    {
     "name": "stdout",
     "output_type": "stream",
     "text": [
      "==================================================\n",
      "-> Embedding the question...\n",
      "-> Embedding the question...\n",
      "-> Searching for relevant documents...\n",
      "-> Building the prompt for the generative model...\n",
      "-> Generating the final answer...\n",
      "-> Searching for relevant documents...\n",
      "-> Building the prompt for the generative model...\n",
      "-> Generating the final answer...\n",
      "\n",
      "==================================================\n",
      "\n",
      "==================================================\n"
     ]
    },
    {
     "data": {
      "text/markdown": [
       "**Question:** what to do if my dog is lazy?"
      ],
      "text/plain": [
       "<IPython.core.display.Markdown object>"
      ]
     },
     "metadata": {},
     "output_type": "display_data"
    },
    {
     "data": {
      "text/markdown": [
       "**🤖 Assistant:** Lazy dogs, or sedentary house dogs, require different ratios of protein and fat in their diets than working dogs.\n"
      ],
      "text/plain": [
       "<IPython.core.display.Markdown object>"
      ]
     },
     "metadata": {},
     "output_type": "display_data"
    },
    {
     "data": {
      "text/markdown": [
       "**Sources:**"
      ],
      "text/plain": [
       "<IPython.core.display.Markdown object>"
      ]
     },
     "metadata": {},
     "output_type": "display_data"
    },
    {
     "data": {
      "text/markdown": [
       "- https://vcahospitals.com/know-your-pet/nutrition-general-feeding-guidelines-for-dogs"
      ],
      "text/plain": [
       "<IPython.core.display.Markdown object>"
      ]
     },
     "metadata": {},
     "output_type": "display_data"
    },
    {
     "name": "stdout",
     "output_type": "stream",
     "text": [
      "==================================================\n",
      "-> Embedding the question...\n",
      "-> Embedding the question...\n",
      "-> Searching for relevant documents...\n",
      "-> Building the prompt for the generative model...\n",
      "-> Generating the final answer...\n",
      "-> Searching for relevant documents...\n",
      "-> Building the prompt for the generative model...\n",
      "-> Generating the final answer...\n",
      "\n",
      "==================================================\n",
      "\n",
      "==================================================\n"
     ]
    },
    {
     "data": {
      "text/markdown": [
       "**Question:** which food are not recommended for cats and dogs"
      ],
      "text/plain": [
       "<IPython.core.display.Markdown object>"
      ]
     },
     "metadata": {},
     "output_type": "display_data"
    },
    {
     "data": {
      "text/markdown": [
       "**🤖 Assistant:** For cats, raw meat, canned fish intended for humans, and milk are not recommended.  I'm sorry, I don't have information on which foods are not recommended for dogs based on my current knowledge. It's best to consult a professional veterinarian.\n"
      ],
      "text/plain": [
       "<IPython.core.display.Markdown object>"
      ]
     },
     "metadata": {},
     "output_type": "display_data"
    },
    {
     "data": {
      "text/markdown": [
       "**Sources:**"
      ],
      "text/plain": [
       "<IPython.core.display.Markdown object>"
      ]
     },
     "metadata": {},
     "output_type": "display_data"
    },
    {
     "data": {
      "text/markdown": [
       "- https://vcahospitals.com/know-your-pet/nutrition-general-feeding-guidelines-for-dogs"
      ],
      "text/plain": [
       "<IPython.core.display.Markdown object>"
      ]
     },
     "metadata": {},
     "output_type": "display_data"
    },
    {
     "data": {
      "text/markdown": [
       "- https://www.vet.cornell.edu/departments-centers-and-institutes/cornell-feline-health-center/health-information/feline-health-topics/feeding-your-cat"
      ],
      "text/plain": [
       "<IPython.core.display.Markdown object>"
      ]
     },
     "metadata": {},
     "output_type": "display_data"
    },
    {
     "name": "stdout",
     "output_type": "stream",
     "text": [
      "==================================================\n",
      "-> Embedding the question...\n",
      "-> Embedding the question...\n",
      "-> Searching for relevant documents...\n",
      "-> Building the prompt for the generative model...\n",
      "-> Generating the final answer...\n",
      "-> Searching for relevant documents...\n",
      "-> Building the prompt for the generative model...\n",
      "-> Generating the final answer...\n",
      "\n",
      "==================================================\n",
      "\n",
      "==================================================\n"
     ]
    },
    {
     "data": {
      "text/markdown": [
       "**Question:** what can i feed my cat?"
      ],
      "text/plain": [
       "<IPython.core.display.Markdown object>"
      ]
     },
     "metadata": {},
     "output_type": "display_data"
    },
    {
     "data": {
      "text/markdown": [
       "**🤖 Assistant:** Once you've confirmed the food is complete and balanced, you can choose between canned, dry, or a combination, depending on your cat's preference.  Remember that treats should only make up 10-15% of their daily calories, and avoid raw meat, human canned fish, and milk.\n"
      ],
      "text/plain": [
       "<IPython.core.display.Markdown object>"
      ]
     },
     "metadata": {},
     "output_type": "display_data"
    },
    {
     "data": {
      "text/markdown": [
       "**Sources:**"
      ],
      "text/plain": [
       "<IPython.core.display.Markdown object>"
      ]
     },
     "metadata": {},
     "output_type": "display_data"
    },
    {
     "data": {
      "text/markdown": [
       "- https://www.vet.cornell.edu/departments-centers-and-institutes/cornell-feline-health-center/health-information/feline-health-topics/feeding-your-cat"
      ],
      "text/plain": [
       "<IPython.core.display.Markdown object>"
      ]
     },
     "metadata": {},
     "output_type": "display_data"
    },
    {
     "name": "stdout",
     "output_type": "stream",
     "text": [
      "==================================================\n"
     ]
    },
    {
     "ename": "KeyboardInterrupt",
     "evalue": "Interrupted by user",
     "output_type": "error",
     "traceback": [
      "\u001b[31m---------------------------------------------------------------------------\u001b[39m",
      "\u001b[31mKeyboardInterrupt\u001b[39m                         Traceback (most recent call last)",
      "\u001b[36mCell\u001b[39m\u001b[36m \u001b[39m\u001b[32mIn[6]\u001b[39m\u001b[32m, line 5\u001b[39m\n\u001b[32m      1\u001b[39m \u001b[38;5;66;03m# --- INTERACTIVE CHAT LOOP ---\u001b[39;00m\n\u001b[32m      3\u001b[39m \u001b[38;5;28;01mwhile\u001b[39;00m \u001b[38;5;28;01mTrue\u001b[39;00m:\n\u001b[32m      4\u001b[39m     \u001b[38;5;66;03m# Get user input\u001b[39;00m\n\u001b[32m----> \u001b[39m\u001b[32m5\u001b[39m     user_question = \u001b[38;5;28;43minput\u001b[39;49m\u001b[43m(\u001b[49m\u001b[33;43m\"\u001b[39;49m\u001b[38;5;130;43;01m\\n\u001b[39;49;00m\u001b[33;43m🐾 Ask your pet care question (or type \u001b[39;49m\u001b[33;43m'\u001b[39;49m\u001b[33;43mquit\u001b[39;49m\u001b[33;43m'\u001b[39;49m\u001b[33;43m to exit): \u001b[39;49m\u001b[33;43m\"\u001b[39;49m\u001b[43m)\u001b[49m\n\u001b[32m      7\u001b[39m     \u001b[38;5;66;03m# Check if the user wants to exit\u001b[39;00m\n\u001b[32m      8\u001b[39m     \u001b[38;5;28;01mif\u001b[39;00m user_question.lower() == \u001b[33m'\u001b[39m\u001b[33mquit\u001b[39m\u001b[33m'\u001b[39m:\n",
      "\u001b[36mFile \u001b[39m\u001b[32m~\\AppData\\Local\\Packages\\PythonSoftwareFoundation.Python.3.11_qbz5n2kfra8p0\\LocalCache\\local-packages\\Python311\\site-packages\\ipykernel\\kernelbase.py:1282\u001b[39m, in \u001b[36mKernel.raw_input\u001b[39m\u001b[34m(self, prompt)\u001b[39m\n\u001b[32m   1280\u001b[39m     msg = \u001b[33m\"\u001b[39m\u001b[33mraw_input was called, but this frontend does not support input requests.\u001b[39m\u001b[33m\"\u001b[39m\n\u001b[32m   1281\u001b[39m     \u001b[38;5;28;01mraise\u001b[39;00m StdinNotImplementedError(msg)\n\u001b[32m-> \u001b[39m\u001b[32m1282\u001b[39m \u001b[38;5;28;01mreturn\u001b[39;00m \u001b[38;5;28;43mself\u001b[39;49m\u001b[43m.\u001b[49m\u001b[43m_input_request\u001b[49m\u001b[43m(\u001b[49m\n\u001b[32m   1283\u001b[39m \u001b[43m    \u001b[49m\u001b[38;5;28;43mstr\u001b[39;49m\u001b[43m(\u001b[49m\u001b[43mprompt\u001b[49m\u001b[43m)\u001b[49m\u001b[43m,\u001b[49m\n\u001b[32m   1284\u001b[39m \u001b[43m    \u001b[49m\u001b[38;5;28;43mself\u001b[39;49m\u001b[43m.\u001b[49m\u001b[43m_parent_ident\u001b[49m\u001b[43m[\u001b[49m\u001b[33;43m\"\u001b[39;49m\u001b[33;43mshell\u001b[39;49m\u001b[33;43m\"\u001b[39;49m\u001b[43m]\u001b[49m\u001b[43m,\u001b[49m\n\u001b[32m   1285\u001b[39m \u001b[43m    \u001b[49m\u001b[38;5;28;43mself\u001b[39;49m\u001b[43m.\u001b[49m\u001b[43mget_parent\u001b[49m\u001b[43m(\u001b[49m\u001b[33;43m\"\u001b[39;49m\u001b[33;43mshell\u001b[39;49m\u001b[33;43m\"\u001b[39;49m\u001b[43m)\u001b[49m\u001b[43m,\u001b[49m\n\u001b[32m   1286\u001b[39m \u001b[43m    \u001b[49m\u001b[43mpassword\u001b[49m\u001b[43m=\u001b[49m\u001b[38;5;28;43;01mFalse\u001b[39;49;00m\u001b[43m,\u001b[49m\n\u001b[32m   1287\u001b[39m \u001b[43m\u001b[49m\u001b[43m)\u001b[49m\n",
      "\u001b[36mFile \u001b[39m\u001b[32m~\\AppData\\Local\\Packages\\PythonSoftwareFoundation.Python.3.11_qbz5n2kfra8p0\\LocalCache\\local-packages\\Python311\\site-packages\\ipykernel\\kernelbase.py:1325\u001b[39m, in \u001b[36mKernel._input_request\u001b[39m\u001b[34m(self, prompt, ident, parent, password)\u001b[39m\n\u001b[32m   1322\u001b[39m \u001b[38;5;28;01mexcept\u001b[39;00m \u001b[38;5;167;01mKeyboardInterrupt\u001b[39;00m:\n\u001b[32m   1323\u001b[39m     \u001b[38;5;66;03m# re-raise KeyboardInterrupt, to truncate traceback\u001b[39;00m\n\u001b[32m   1324\u001b[39m     msg = \u001b[33m\"\u001b[39m\u001b[33mInterrupted by user\u001b[39m\u001b[33m\"\u001b[39m\n\u001b[32m-> \u001b[39m\u001b[32m1325\u001b[39m     \u001b[38;5;28;01mraise\u001b[39;00m \u001b[38;5;167;01mKeyboardInterrupt\u001b[39;00m(msg) \u001b[38;5;28;01mfrom\u001b[39;00m\u001b[38;5;250m \u001b[39m\u001b[38;5;28;01mNone\u001b[39;00m\n\u001b[32m   1326\u001b[39m \u001b[38;5;28;01mexcept\u001b[39;00m \u001b[38;5;167;01mException\u001b[39;00m:\n\u001b[32m   1327\u001b[39m     \u001b[38;5;28mself\u001b[39m.log.warning(\u001b[33m\"\u001b[39m\u001b[33mInvalid Message:\u001b[39m\u001b[33m\"\u001b[39m, exc_info=\u001b[38;5;28;01mTrue\u001b[39;00m)\n",
      "\u001b[31mKeyboardInterrupt\u001b[39m: Interrupted by user"
     ]
    }
   ],
   "source": [
    "# --- INTERACTIVE CHAT LOOP ---\n",
    "\n",
    "while True:\n",
    "    # Get user input\n",
    "    user_question = input(\"\\n🐾 Ask your pet care question (or type 'quit' to exit): \")\n",
    "    \n",
    "    # Check if the user wants to exit\n",
    "    if user_question.lower() == 'quit':\n",
    "        print(\"Goodbye! Stay safe and give your pet a treat!\")\n",
    "        break\n",
    "    \n",
    "    # Get the answer from the RAG system\n",
    "    answer, sources = ask_pet_assistant(user_question)\n",
    "    \n",
    "    # Display the results using Markdown for better formatting\n",
    "    print(\"\\n\" + \"=\"*50)\n",
    "    display(Markdown(f\"**Question:** {user_question}\"))\n",
    "    display(Markdown(f\"**🤖 Assistant:** {answer}\"))\n",
    "    \n",
    "    if sources:\n",
    "        display(Markdown(\"**Sources:**\"))\n",
    "        for source in sources:\n",
    "            display(Markdown(f\"- {source}\"))\n",
    "    print(\"=\"*50)"
   ]
  },
  {
   "cell_type": "code",
   "execution_count": null,
   "id": "a8b9a38e-0080-4081-8df9-4a9250a63e23",
   "metadata": {},
   "outputs": [],
   "source": []
  }
 ],
 "metadata": {
  "kernelspec": {
   "display_name": "Python 3",
   "language": "python",
   "name": "python3"
  },
  "language_info": {
   "codemirror_mode": {
    "name": "ipython",
    "version": 3
   },
   "file_extension": ".py",
   "mimetype": "text/x-python",
   "name": "python",
   "nbconvert_exporter": "python",
   "pygments_lexer": "ipython3",
   "version": "3.11.9"
  }
 },
 "nbformat": 4,
 "nbformat_minor": 5
}
